{
 "cells": [
  {
   "cell_type": "markdown",
   "metadata": {},
   "source": [
    "# Speech analysis and re-synthesis\n",
    "\n",
    "This notebook demonstrates how to analyze speech and re-synthesis speech waveform from speech parameters using [pysptk](https://github.com/r9y9/pysptk) (and other useful speech/audio/music analysis packages). Synthesized audio examples are provided so that you are able to compare synthesis filters on your browser.\n",
    "\n",
    "## Requirements\n",
    "\n",
    "- pysptk: https://github.com/r9y9/pysptk\n",
    "- scipy\n",
    "- librosa: https://github.com/bmcfee/librosa\n",
    "- seaborn: https://github.com/mwaskom/seaborn"
   ]
  },
  {
   "cell_type": "code",
   "execution_count": 27,
   "metadata": {
    "scrolled": true
   },
   "outputs": [
    {
     "name": "stdout",
     "output_type": "stream",
     "text": [
      "Populating the interactive namespace from numpy and matplotlib\n"
     ]
    }
   ],
   "source": [
    "%pylab inline"
   ]
  },
  {
   "cell_type": "code",
   "execution_count": 28,
   "metadata": {},
   "outputs": [],
   "source": [
    "import matplotlib\n",
    "import seaborn\n",
    "seaborn.set(style=\"dark\")\n",
    "rcParams['figure.figsize'] = (16, 5)"
   ]
  },
  {
   "cell_type": "code",
   "execution_count": 29,
   "metadata": {},
   "outputs": [],
   "source": [
    "from IPython.display import Audio"
   ]
  },
  {
   "cell_type": "code",
   "execution_count": 30,
   "metadata": {},
   "outputs": [],
   "source": [
    "import numpy as np\n",
    "import librosa\n",
    "import librosa.display\n",
    "import pysptk\n",
    "from scipy.io import wavfile"
   ]
  },
  {
   "cell_type": "markdown",
   "metadata": {},
   "source": [
    "## Data Load"
   ]
  },
  {
   "cell_type": "code",
   "execution_count": 31,
   "metadata": {},
   "outputs": [],
   "source": [
    "import copy\n",
    "import fnmatch\n",
    "import os\n",
    "import random\n",
    "import re\n",
    "\n",
    "import pandas as pd\n",
    "import json\n",
    "\n",
    "def find_files(directory, pattern='*.wav'):\n",
    "    '''Recursively finds all files matching the pattern.'''\n",
    "    files = []\n",
    "    for root, dirnames, filenames in os.walk(directory):\n",
    "        for filename in fnmatch.filter(filenames, pattern):\n",
    "            files.append(os.path.join(root, filename))\n",
    "    return files"
   ]
  },
  {
   "cell_type": "markdown",
   "metadata": {},
   "source": [
    "## Source parameter extraction\n",
    "\n",
    "### Framing and windowing"
   ]
  },
  {
   "cell_type": "code",
   "execution_count": 32,
   "metadata": {},
   "outputs": [],
   "source": [
    "frame_length = 1024\n",
    "hop_length = 80\n",
    "\n",
    "def windowing(x):\n",
    "    # Note that almost all of pysptk functions assume input array is C-contiguous and np.float4 element type\n",
    "    frames = librosa.util.frame(x, frame_length=frame_length, hop_length=hop_length).astype(np.float64).T\n",
    "\n",
    "    # Windowing\n",
    "    frames *= pysptk.blackman(frame_length)\n",
    "    assert frames.shape[1] == frame_length \n",
    "    return frames"
   ]
  },
  {
   "cell_type": "markdown",
   "metadata": {},
   "source": [
    "### F0 estimation"
   ]
  },
  {
   "cell_type": "code",
   "execution_count": 33,
   "metadata": {},
   "outputs": [],
   "source": [
    "# F0 estimation\n",
    "def f0_estimation(x):\n",
    "    f0 = pysptk.swipe(x.astype(np.float64), fs=sr, hopsize=hop_length, min=60, max=240, otype=\"f0\")\n",
    "    plot(f0, linewidth=3, label=\"F0 trajectory estimated by SWIPE'\")\n",
    "    xlim(0, len(f0))\n",
    "    legend(prop={'size': 16})\n",
    "    return f0"
   ]
  },
  {
   "cell_type": "markdown",
   "metadata": {
    "collapsed": true
   },
   "source": [
    "## Mel-generalized cepstrum extraction"
   ]
  },
  {
   "cell_type": "code",
   "execution_count": 34,
   "metadata": {},
   "outputs": [],
   "source": [
    "# Order of mel-cepstrum\n",
    "order = 25\n",
    "alpha = 0.41\n",
    "stage = 5\n",
    "gamma = -1.0 / stage\n",
    "\n",
    "def mgcep(frames, order=order):\n",
    "    mgc = pysptk.mgcep(frames, order, alpha, gamma, min_det=0)\n",
    "    logH = pysptk.mgc2sp(mgc, alpha, gamma, frame_length).real\n",
    "    librosa.display.specshow(logH.T, sr=sr, hop_length=hop_length, x_axis=\"time\", y_axis=\"linear\")\n",
    "    colorbar()\n",
    "    title(\"Spectral envelope estimate from mel-generalized cepstrm\")\n",
    "    return mgc"
   ]
  },
  {
   "cell_type": "code",
   "execution_count": 41,
   "metadata": {},
   "outputs": [],
   "source": [
    "def generate_mgc(directory, sample_rate, lc_ext_name=\".csv\"):\n",
    "    files = find_files(directory)\n",
    "    print(\"files length: {}\".format(len(files)))\n",
    "    for filename in files:\n",
    "        print filename\n",
    "        audio, _ = librosa.load(filename, sr=sample_rate, mono=True)\n",
    "        frames = windowing(audio)\n",
    "        mgc = mgcep(frames)\n",
    "        print mgc.shape\n",
    "        df = pd.DataFrame(mgc)\n",
    "        lc_filename = copy.deepcopy(filename)\n",
    "        if lc_filename.endswith('.wav'):\n",
    "            lc_filename = lc_filename[:-4] + lc_ext_name\n",
    "        lc_filename = lc_filename.replace(\"wav48\", \"mgc\")\n",
    "        if not os.path.exists(os.path.dirname(lc_filename)):\n",
    "            try:\n",
    "                os.makedirs(os.path.dirname(lc_filename))\n",
    "            except OSError as exc: # Guard against race condition\n",
    "                if exc.errno != errno.EEXIST:\n",
    "                    raise\n",
    "        print lc_filename\n",
    "        df.to_csv(lc_filename, sep=',', header=None, index=None) "
   ]
  },
  {
   "cell_type": "code",
   "execution_count": 36,
   "metadata": {},
   "outputs": [],
   "source": [
    "def generate_lc_map(directory):\n",
    "    files = find_files(directory)\n",
    "    print(\"files length: {}\".format(len(files)))\n",
    "    lookup = {}\n",
    "    for filename in files:\n",
    "        p_filename = filename.split(directory)[-1]\n",
    "        print filename, p_filename\n",
    "        # p_lc_filename = p_filename.replace(\"wav48\", \"mfcc\").replace(\".wav\", \".csv\")\n",
    "        p_lc_filename = \"../../mgc/p225\"+p_filename.replace(\".wav\", \".csv\")\n",
    "        lookup[p_filename] = p_lc_filename\n",
    "    with open(directory+\"/mgc_p225.json\", \"w\") as output:\n",
    "        json.dump(lookup, output)"
   ]
  },
  {
   "cell_type": "code",
   "execution_count": null,
   "metadata": {},
   "outputs": [],
   "source": [
    "generate_mgc(\"../../VCTK-Corpus\", 16000, lc_ext_name=\".csv\")"
   ]
  }
 ],
 "metadata": {
  "kernelspec": {
   "display_name": "tf-wavenet-ENV",
   "language": "python",
   "name": "tf-wavenet-env"
  },
  "language_info": {
   "codemirror_mode": {
    "name": "ipython",
    "version": 2
   },
   "file_extension": ".py",
   "mimetype": "text/x-python",
   "name": "python",
   "nbconvert_exporter": "python",
   "pygments_lexer": "ipython2",
   "version": "2.7.5"
  }
 },
 "nbformat": 4,
 "nbformat_minor": 1
}
