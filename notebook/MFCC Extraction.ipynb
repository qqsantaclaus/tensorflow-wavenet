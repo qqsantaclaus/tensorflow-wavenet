{
 "cells": [
  {
   "cell_type": "markdown",
   "metadata": {},
   "source": [
    "# Speech analysis and re-synthesis\n",
    "\n",
    "This notebook demonstrates how to analyze speech and re-synthesis speech waveform from speech parameters using [pysptk](https://github.com/r9y9/pysptk) (and other useful speech/audio/music analysis packages). Synthesized audio examples are provided so that you are able to compare synthesis filters on your browser.\n",
    "\n",
    "## Requirements\n",
    "\n",
    "- pysptk: https://github.com/r9y9/pysptk\n",
    "- scipy\n",
    "- librosa: https://github.com/bmcfee/librosa\n",
    "- seaborn: https://github.com/mwaskom/seaborn"
   ]
  },
  {
   "cell_type": "code",
   "execution_count": 1,
   "metadata": {
    "scrolled": true
   },
   "outputs": [
    {
     "name": "stdout",
     "output_type": "stream",
     "text": [
      "Populating the interactive namespace from numpy and matplotlib\n"
     ]
    }
   ],
   "source": [
    "%pylab inline"
   ]
  },
  {
   "cell_type": "code",
   "execution_count": 2,
   "metadata": {},
   "outputs": [],
   "source": [
    "import matplotlib\n",
    "import seaborn\n",
    "seaborn.set(style=\"dark\")\n",
    "rcParams['figure.figsize'] = (16, 5)"
   ]
  },
  {
   "cell_type": "code",
   "execution_count": 3,
   "metadata": {},
   "outputs": [],
   "source": [
    "from IPython.display import Audio\n",
    "import IPython.display"
   ]
  },
  {
   "cell_type": "code",
   "execution_count": 4,
   "metadata": {},
   "outputs": [],
   "source": [
    "import numpy as np\n",
    "import sys\n",
    "import librosa\n",
    "import librosa.display\n",
    "import pysptk\n",
    "from scipy.io import wavfile"
   ]
  },
  {
   "cell_type": "markdown",
   "metadata": {},
   "source": [
    "## Data Load"
   ]
  },
  {
   "cell_type": "code",
   "execution_count": 5,
   "metadata": {},
   "outputs": [],
   "source": [
    "import copy\n",
    "import fnmatch\n",
    "import os\n",
    "import random\n",
    "import re\n",
    "\n",
    "import pandas as pd\n",
    "import json\n",
    "\n",
    "def find_files(directory, pattern='*.wav'):\n",
    "    '''Recursively finds all files matching the pattern.'''\n",
    "    files = []\n",
    "    for root, dirnames, filenames in os.walk(directory):\n",
    "        for filename in fnmatch.filter(filenames, pattern):\n",
    "            files.append(os.path.join(root, filename))\n",
    "    return files"
   ]
  },
  {
   "cell_type": "markdown",
   "metadata": {
    "collapsed": true
   },
   "source": [
    "## Mel-frequency cepstrum extraction"
   ]
  },
  {
   "cell_type": "code",
   "execution_count": 6,
   "metadata": {},
   "outputs": [],
   "source": [
    "def generate_mfcc(directory, sample_rate, lc_dir_name, n_mfcc, lc_ext_name=\".csv\"):\n",
    "    files = find_files(directory,  pattern=\"p225*.wav\")\n",
    "    for index, filename in enumerate(files):\n",
    "        print(str(index)+\"/\"+str(len(files)))\n",
    "        print(filename)\n",
    "        lc_filename = copy.deepcopy(filename)\n",
    "        if lc_filename.endswith('.wav'):\n",
    "            lc_filename = lc_filename[:-4] + lc_ext_name\n",
    "        lc_filename = lc_filename.replace(\"wav48\", lc_dir_name)\n",
    "        if os.path.isfile(lc_filename):\n",
    "            IPython.display.clear_output(wait=True)\n",
    "            continue\n",
    "        audio, _ = librosa.load(filename, sr=sample_rate, mono=True)\n",
    "        mfcc = librosa.feature.mfcc(y=audio, sr=sample_rate, n_mfcc=n_mfcc) # shape = (n_mfcc, t)\n",
    "        df = pd.DataFrame(mfcc.T)\n",
    "        print(str(mfcc.T.shape))\n",
    "        if not os.path.exists(os.path.dirname(lc_filename)):\n",
    "            try:\n",
    "                os.makedirs(os.path.dirname(lc_filename))\n",
    "            except OSError as exc: # Guard against race condition\n",
    "                if exc.errno != errno.EEXIST:\n",
    "                    raise\n",
    "        print(lc_filename)\n",
    "        df.to_csv(lc_filename, sep=',', header=None, index=None) \n",
    "        IPython.display.clear_output(wait=True)"
   ]
  },
  {
   "cell_type": "code",
   "execution_count": 7,
   "metadata": {},
   "outputs": [],
   "source": [
    "def generate_lc_map(directory):\n",
    "    files = find_files(directory, pattern=\"p225*.wav\")\n",
    "    print(\"files length: {}\".format(len(files)))\n",
    "    lookup = {}\n",
    "    for filename in files:\n",
    "        p_filename = filename.split(directory)[-1]\n",
    "        print(filename +\" \"+p_filename)\n",
    "        # p_lc_filename = p_filename.replace(\"wav48\", \"mfcc\").replace(\".wav\", \".csv\")\n",
    "        p_lc_filename = \"../../mfcc40/p225\"+p_filename.replace(\".wav\", \".csv\")\n",
    "        lookup[p_filename] = p_lc_filename\n",
    "    with open(directory+\"/mfcc40_p225.json\", \"w\") as output:\n",
    "        json.dump(lookup, output)"
   ]
  },
  {
   "cell_type": "code",
   "execution_count": 9,
   "metadata": {},
   "outputs": [
    {
     "name": "stdout",
     "output_type": "stream",
     "text": [
      "230/231\n",
      "../../VCTK-Corpus/wav48/p225/p225_145.wav\n",
      "(63, 40)\n",
      "../../VCTK-Corpus/mfcc40/p225/p225_145.csv\n"
     ]
    }
   ],
   "source": [
    "generate_mfcc(\"../../VCTK-Corpus\", 16000, \"mfcc40\", 40, lc_ext_name=\".csv\")"
   ]
  },
  {
   "cell_type": "code",
   "execution_count": null,
   "metadata": {},
   "outputs": [],
   "source": []
  }
 ],
 "metadata": {
  "kernelspec": {
   "display_name": "tf-wavenet-ENV",
   "language": "python",
   "name": "tf-wavenet-env"
  },
  "language_info": {
   "codemirror_mode": {
    "name": "ipython",
    "version": 2
   },
   "file_extension": ".py",
   "mimetype": "text/x-python",
   "name": "python",
   "nbconvert_exporter": "python",
   "pygments_lexer": "ipython2",
   "version": "2.7.5"
  }
 },
 "nbformat": 4,
 "nbformat_minor": 1
}
